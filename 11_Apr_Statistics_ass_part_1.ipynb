{
 "cells": [
  {
   "cell_type": "code",
   "execution_count": 1,
   "id": "401a822c-8096-4dff-8f40-8c93e0bec62d",
   "metadata": {},
   "outputs": [],
   "source": [
    "# Statistics Practice Questions"
   ]
  },
  {
   "cell_type": "code",
   "execution_count": 4,
   "id": "a935c9d2-c348-40cc-94f1-79efffd2901f",
   "metadata": {},
   "outputs": [
    {
     "name": "stdout",
     "output_type": "stream",
     "text": [
      "[129, 101, 112, 98, 97, 108, 112, 110, 130, 92, 106, 130, 98, 120, 129, 109, 116, 115, 110, 123, 97, 122, 126, 93, 113, 105, 105, 122, 97, 112, 113, 90, 94, 126, 113, 126, 96, 126, 114, 92, 125, 109, 117, 123, 103, 116, 90, 113, 99, 119, 118, 108, 108, 114, 110, 128, 126, 105, 93, 99, 103, 115, 98, 129, 103, 120, 110, 97, 93, 121, 91, 118, 109, 106, 91, 120, 122, 125, 120, 92, 119, 128, 115, 126, 96, 95, 93, 100, 111, 128, 98, 106, 98, 97, 122, 121, 92, 91, 119, 118]\n"
     ]
    }
   ],
   "source": [
    "'''1. Generate a list of 100 integers containing values between 90 to 130 and store it in the variable `int_list`.\n",
    "After generating the list, find the following:'''\n",
    "\n",
    "# Ans\n",
    "import random\n",
    "\n",
    "int_list = [random.randint(90, 130) for _ in range(100)]\n",
    "print(int_list)"
   ]
  },
  {
   "cell_type": "code",
   "execution_count": 5,
   "id": "25785f8c-a5a2-4217-ad69-57cb6f69b489",
   "metadata": {},
   "outputs": [
    {
     "name": "stdout",
     "output_type": "stream",
     "text": [
      "Mean: 15.0\n",
      "Median: 15\n"
     ]
    }
   ],
   "source": [
    "'''i. Write a Python function to calculate the mean of a given list of numbers.\n",
    "Create a function to find the median of a list of numbers.'''\n",
    "\n",
    "# Ans\n",
    "def calculate_mean(numbers):\n",
    "    if not numbers:\n",
    "        return None  # Return None for an empty list\n",
    "    \n",
    "    return sum(numbers) / len(numbers)\n",
    "\n",
    "def calculate_median(numbers):\n",
    "    if not numbers:\n",
    "        return None  # Return None for an empty list\n",
    "    \n",
    "    sorted_numbers = sorted(numbers)\n",
    "    n = len(sorted_numbers)\n",
    "    if n % 2 == 0:\n",
    "        # If the list has an even number of elements, take the average of the middle two numbers\n",
    "        mid_left = sorted_numbers[n // 2 - 1]\n",
    "        mid_right = sorted_numbers[n // 2]\n",
    "        return (mid_left + mid_right) / 2\n",
    "    else:\n",
    "        # If the list has an odd number of elements, return the middle number\n",
    "        return sorted_numbers[n // 2]\n",
    "\n",
    "# Example usage:\n",
    "num_list = [5, 10, 15, 20, 25]\n",
    "mean_value = calculate_mean(num_list)\n",
    "median_value = calculate_median(num_list)\n",
    "\n",
    "print(\"Mean:\", mean_value)\n",
    "print(\"Median:\", median_value)\n"
   ]
  },
  {
   "cell_type": "code",
   "execution_count": 6,
   "id": "425d30da-ba06-49ef-9e55-ee949b8428ac",
   "metadata": {},
   "outputs": [
    {
     "name": "stdout",
     "output_type": "stream",
     "text": [
      "Mode(s): [4]\n"
     ]
    }
   ],
   "source": [
    "'''ii. Develop a program to compute the mode of a list of integers'''\n",
    "\n",
    "# Ans\n",
    "from collections import Counter\n",
    "\n",
    "def compute_mode(numbers):\n",
    "    if not numbers:\n",
    "        return None  # Return None for an empty list\n",
    "    \n",
    "    # Count the occurrences of each number in the list\n",
    "    count_dict = Counter(numbers)\n",
    "    \n",
    "    # Find the number(s) with the maximum frequency (mode)\n",
    "    max_freq = max(count_dict.values())\n",
    "    modes = [num for num, freq in count_dict.items() if freq == max_freq]\n",
    "    \n",
    "    return modes\n",
    "\n",
    "# Example usage:\n",
    "num_list = [1, 2, 2, 3, 3, 3, 4, 4, 4, 4]\n",
    "mode_values = compute_mode(num_list)\n",
    "\n",
    "print(\"Mode(s):\", mode_values)\n"
   ]
  },
  {
   "cell_type": "code",
   "execution_count": 7,
   "id": "741d9236-c5d9-4e53-983c-9b90f241652f",
   "metadata": {},
   "outputs": [
    {
     "name": "stdout",
     "output_type": "stream",
     "text": [
      "Weighted Mean: 30.0\n"
     ]
    }
   ],
   "source": [
    "''' (iii) Implement a function to calculate the weighted mean of a list of values and their corresponding weights'''\n",
    "\n",
    "\n",
    "# Ans\n",
    "def calculate_weighted_mean(values, weights):\n",
    "    if len(values) != len(weights) or len(values) == 0:\n",
    "        return None  # Return None if the lists are empty or have different lengths\n",
    "    \n",
    "    weighted_sum = sum(value * weight for value, weight in zip(values, weights))\n",
    "    total_weight = sum(weights)\n",
    "    \n",
    "    if total_weight == 0:\n",
    "        return None  # Return None if the total weight is zero\n",
    "    \n",
    "    return weighted_sum / total_weight\n",
    "\n",
    "# Example usage:\n",
    "values = [10, 20, 30, 40]\n",
    "weights = [1, 2, 3, 4]\n",
    "weighted_mean = calculate_weighted_mean(values, weights)\n",
    "\n",
    "print(\"Weighted Mean:\", weighted_mean)\n"
   ]
  },
  {
   "cell_type": "code",
   "execution_count": 8,
   "id": "6a714499-1057-435e-a54a-93e3f1d99943",
   "metadata": {},
   "outputs": [
    {
     "name": "stdout",
     "output_type": "stream",
     "text": [
      "Geometric Mean: 2.605171084697352\n"
     ]
    }
   ],
   "source": [
    "''' (iv) Write a Python function to find the geometric mean of a list of positive numbers.'''\n",
    "\n",
    "# Ans\n",
    "from math import prod\n",
    "\n",
    "def calculate_geometric_mean(numbers):\n",
    "    if not numbers or any(num <= 0 for num in numbers):\n",
    "        return None  # Return None for an empty list or non-positive numbers\n",
    "    \n",
    "    product_of_numbers = prod(numbers)\n",
    "    geometric_mean = product_of_numbers ** (1 / len(numbers))\n",
    "    \n",
    "    return geometric_mean\n",
    "\n",
    "# Example usage:\n",
    "num_list = [1, 2, 3, 4, 5]\n",
    "geometric_mean_value = calculate_geometric_mean(num_list)\n",
    "\n",
    "print(\"Geometric Mean:\", geometric_mean_value)\n"
   ]
  },
  {
   "cell_type": "code",
   "execution_count": 9,
   "id": "2988b768-aa83-4cd1-8553-9710e93e7086",
   "metadata": {},
   "outputs": [
    {
     "name": "stdout",
     "output_type": "stream",
     "text": [
      "Harmonic Mean: 4.37956204379562\n"
     ]
    }
   ],
   "source": [
    "''' (v) Create a program to calculate the harmonic mean of a list of values.'''\n",
    "\n",
    "\n",
    "# Ans\n",
    "def calculate_harmonic_mean(values):\n",
    "    if not values or any(value <= 0 for value in values):\n",
    "        return None  # Return None for an empty list or non-positive values\n",
    "    \n",
    "    reciprocal_sum = sum(1 / value for value in values)\n",
    "    harmonic_mean = len(values) / reciprocal_sum\n",
    "    \n",
    "    return harmonic_mean\n",
    "\n",
    "# Example usage:\n",
    "num_list = [2, 4, 6, 8, 10]\n",
    "harmonic_mean_value = calculate_harmonic_mean(num_list)\n",
    "\n",
    "print(\"Harmonic Mean:\", harmonic_mean_value)\n"
   ]
  },
  {
   "cell_type": "code",
   "execution_count": 10,
   "id": "3eecaea2-ceb3-48d2-88a2-697629558fcd",
   "metadata": {},
   "outputs": [
    {
     "name": "stdout",
     "output_type": "stream",
     "text": [
      "Midrange: 15.0\n"
     ]
    }
   ],
   "source": [
    "'''  (vi) Build a function to determine the midrange of a list of numbers (average of the minimum and maximum).'''\n",
    "\n",
    "# Ans\n",
    "def calculate_midrange(numbers):\n",
    "    if not numbers:\n",
    "        return None  # Return None for an empty list\n",
    "    \n",
    "    min_val = min(numbers)\n",
    "    max_val = max(numbers)\n",
    "    midrange = (min_val + max_val) / 2\n",
    "    \n",
    "    return midrange\n",
    "\n",
    "# Example usage:\n",
    "num_list = [5, 10, 15, 20, 25]\n",
    "midrange_value = calculate_midrange(num_list)\n",
    "\n",
    "print(\"Midrange:\", midrange_value)\n"
   ]
  },
  {
   "cell_type": "code",
   "execution_count": 11,
   "id": "c872905c-66cc-49bc-90d0-107ee3b2bd39",
   "metadata": {},
   "outputs": [
    {
     "name": "stdout",
     "output_type": "stream",
     "text": [
      "Trimmed Mean (excluding 20% outliers): 27.5\n"
     ]
    }
   ],
   "source": [
    "'''  (vii) Implement a Python program to find the trimmed mean of a list, excluding a certain percentage of\n",
    "outliers'''\n",
    "\n",
    "# Ans\n",
    "def calculate_trimmed_mean(numbers, trim_percentage):\n",
    "    if not numbers or trim_percentage < 0 or trim_percentage >= 50:\n",
    "        return None  # Return None for an empty list or invalid trim percentage\n",
    "    \n",
    "    sorted_numbers = sorted(numbers)\n",
    "    trim_count = int(len(numbers) * (trim_percentage / 100) / 2)\n",
    "    \n",
    "    trimmed_numbers = sorted_numbers[trim_count:-trim_count]\n",
    "    trimmed_mean = sum(trimmed_numbers) / len(trimmed_numbers)\n",
    "    \n",
    "    return trimmed_mean\n",
    "\n",
    "# Example usage:\n",
    "num_list = [5, 10, 15, 20, 25, 30, 35, 40, 45, 50]\n",
    "trim_percentage = 20\n",
    "trimmed_mean_value = calculate_trimmed_mean(num_list, trim_percentage)\n",
    "\n",
    "print(\"Trimmed Mean (excluding {}% outliers):\".format(trim_percentage), trimmed_mean_value)\n"
   ]
  },
  {
   "cell_type": "code",
   "execution_count": 12,
   "id": "7d99e6ef-408b-4846-83d6-fddac8392b1d",
   "metadata": {},
   "outputs": [
    {
     "name": "stdout",
     "output_type": "stream",
     "text": [
      "[255, 208, 208, 255, 203, 232, 270, 219, 221, 285, 247, 207, 275, 284, 239, 205, 256, 216, 251, 241, 295, 238, 264, 249, 292, 272, 224, 252, 272, 292, 205, 227, 217, 216, 280, 217, 225, 254, 223, 226, 280, 222, 268, 272, 269, 248, 267, 243, 280, 227, 251, 239, 241, 211, 287, 282, 223, 202, 275, 238, 249, 264, 221, 205, 228, 238, 208, 267, 237, 230, 257, 243, 285, 244, 279, 229, 211, 288, 260, 206, 272, 241, 298, 296, 266, 288, 254, 270, 279, 202, 257, 255, 204, 283, 299, 228, 282, 233, 257, 256, 246, 225, 208, 247, 240, 238, 206, 213, 285, 265, 260, 288, 251, 283, 218, 241, 280, 227, 214, 215, 293, 222, 257, 270, 206, 251, 275, 253, 209, 297, 261, 294, 214, 285, 230, 223, 205, 225, 213, 284, 280, 262, 269, 205, 282, 296, 216, 269, 236, 231, 248, 220, 299, 236, 224, 219, 220, 236, 238, 236, 272, 203, 277, 261, 281, 226, 278, 217, 218, 223, 247, 279, 261, 255, 251, 232, 204, 286, 221, 268, 230, 200, 227, 266, 226, 270, 294, 276, 220, 290, 258, 239, 212, 252, 207, 238, 225, 245, 218, 228, 224, 215, 244, 270, 300, 273, 270, 245, 271, 213, 294, 296, 238, 298, 220, 287, 214, 296, 225, 213, 215, 233, 273, 254, 257, 251, 214, 221, 277, 246, 294, 200, 265, 212, 282, 287, 222, 292, 285, 300, 217, 296, 260, 251, 202, 293, 254, 220, 256, 287, 208, 293, 289, 232, 242, 274, 233, 232, 237, 239, 252, 211, 281, 283, 297, 300, 267, 217, 261, 207, 273, 273, 289, 261, 255, 289, 294, 208, 240, 224, 236, 225, 218, 251, 227, 289, 285, 213, 247, 298, 283, 274, 241, 235, 254, 278, 281, 239, 296, 283, 276, 225, 293, 215, 206, 275, 209, 245, 234, 299, 257, 255, 239, 211, 225, 212, 206, 218, 202, 239, 250, 259, 206, 228, 238, 278, 300, 252, 225, 232, 267, 216, 261, 214, 256, 276, 276, 208, 273, 251, 268, 234, 201, 300, 288, 222, 271, 221, 274, 265, 291, 260, 277, 273, 226, 250, 274, 286, 220, 261, 220, 219, 260, 219, 238, 249, 214, 226, 246, 226, 218, 273, 283, 289, 214, 287, 212, 219, 246, 219, 295, 220, 242, 250, 269, 230, 280, 244, 226, 243, 257, 250, 242, 208, 252, 274, 248, 221, 278, 218, 292, 290, 218, 218, 274, 212, 261, 212, 257, 264, 294, 297, 215, 216, 241, 279, 207, 270, 237, 300, 259, 256, 264, 213, 247, 255, 254, 235, 202, 262, 210, 250, 222, 257, 255, 200, 266, 290, 260, 273, 209, 265, 213, 290, 262, 260, 267, 209, 229, 284, 262, 256, 223, 273, 258, 299, 248, 235, 231, 282, 239, 221, 269, 296, 207, 220, 222, 214, 230, 211, 201, 217, 263, 253, 209, 212, 284, 205, 250, 228, 294, 206, 201, 212, 246, 261, 222, 221, 252, 244, 242, 285, 234, 227, 200, 268, 244, 264, 206, 217]\n"
     ]
    }
   ],
   "source": [
    "'''2. Generate a list of 500 integers containing values between 200 to 300 and store it in the variable `int_list2`.\n",
    "After generating the list, find the following:'''\n",
    "\n",
    "# Ans\n",
    "import random\n",
    "\n",
    "int_list2 = [random.randint(200, 300) for _ in range(500)]\n",
    "print(int_list2) "
   ]
  },
  {
   "cell_type": "code",
   "execution_count": 15,
   "id": "580a3b73-2536-4e73-808b-e1517eaeb796",
   "metadata": {},
   "outputs": [
    {
     "data": {
      "image/png": "[encoded data removed]",
      "text/plain": [
       "<Figure size 800x600 with 1 Axes>"
      ]
     },
     "metadata": {},
     "output_type": "display_data"
    },
    {
     "data": {
      "image/png": "[encoded data removed]",
      "text/plain": [
       "<Figure size 800x600 with 1 Axes>"
      ]
     },
     "metadata": {},
     "output_type": "display_data"
    },
    {
     "data": {
      "image/png": "[encoded data removed]",
      "text/plain": [
       "<Figure size 800x600 with 1 Axes>"
      ]
     },
     "metadata": {},
     "output_type": "display_data"
    },
    {
     "data": {
      "image/png": "[encoded data removed]",
      "text/plain": [
       "<Figure size 800x600 with 1 Axes>"
      ]
     },
     "metadata": {},
     "output_type": "display_data"
    }
   ],
   "source": [
    "'''(i) Compare the given list of visualization for the given data:\n",
    "    1. Frequency & Gaussian distribution\n",
    "    2. Frequency smoothened KDE plot\n",
    "    3. Gaussian distribution & smoothened KDE plot'''\n",
    "\n",
    "# Ans\n",
    "import matplotlib.pyplot as plt\n",
    "import seaborn as sns\n",
    "import numpy as np\n",
    "import warnings\n",
    "warnings.filterwarnings('ignore')\n",
    "\n",
    "# Frequency plot\n",
    "plt.figure(figsize=(8, 6))\n",
    "sns.histplot(int_list2, bins=20, kde=False, color='skyblue', edgecolor='black')\n",
    "plt.title('Frequency Plot')\n",
    "plt.xlabel('Value')\n",
    "plt.ylabel('Frequency')\n",
    "plt.grid(True)\n",
    "plt.show()\n",
    "\n",
    "# Gaussian distribution plot\n",
    "plt.figure(figsize=(8, 6))\n",
    "sns.histplot(int_list2, bins=20, kde=True, color='skyblue', edgecolor='black')\n",
    "plt.title('Gaussian Distribution Plot')\n",
    "plt.xlabel('Value')\n",
    "plt.ylabel('Density')\n",
    "plt.grid(True)\n",
    "plt.show()\n",
    "\n",
    "# Smoothened KDE plot\n",
    "plt.figure(figsize=(8, 6))\n",
    "sns.kdeplot(int_list2, shade=True, color='skyblue')\n",
    "plt.title('Smoothened KDE Plot')\n",
    "plt.xlabel('Value')\n",
    "plt.ylabel('Density')\n",
    "plt.grid(True)\n",
    "plt.show()\n",
    "\n",
    "# Overlay Gaussian distribution and Smoothened KDE plot\n",
    "plt.figure(figsize=(8, 6))\n",
    "sns.histplot(int_list2, bins=20, kde=True, color='skyblue', edgecolor='black', label='Gaussian Distribution')\n",
    "sns.kdeplot(int_list2, shade=True, color='orange', label='Smoothened KDE Plot')\n",
    "plt.title('Overlay: Gaussian Distribution & Smoothened KDE Plot')\n",
    "plt.xlabel('Value')\n",
    "plt.ylabel('Density')\n",
    "plt.legend()\n",
    "plt.grid(True)\n",
    "plt.show()\n"
   ]
  },
  {
   "cell_type": "code",
   "execution_count": 17,
   "id": "c050c678-3501-4e8f-bac2-e457392b1873",
   "metadata": {},
   "outputs": [
    {
     "name": "stdout",
     "output_type": "stream",
     "text": [
      "Range of int_list2: 100\n"
     ]
    }
   ],
   "source": [
    "'''(ii) Write a Python function to calculate the range of a given list of numbers.'''\n",
    "\n",
    "# Ans\n",
    "def calculate_range(numbers):\n",
    "    if not numbers:\n",
    "        return None  # Return None for an empty list\n",
    "    \n",
    "    return max(numbers) - min(numbers)\n",
    "\n",
    "list_range = calculate_range(int_list2)\n",
    "\n",
    "print(\"Range of int_list2:\", list_range)\n"
   ]
  },
  {
   "cell_type": "code",
   "execution_count": 18,
   "id": "2fc732ec-bf5d-4490-9fe8-043f7daf28a2",
   "metadata": {},
   "outputs": [
    {
     "name": "stdout",
     "output_type": "stream",
     "text": [
      "Variance: 814.5218039999995\n",
      "Standard Deviation: 28.539828380703334\n"
     ]
    }
   ],
   "source": [
    "'''  (iii) Create a program to find the variance and standard deviation of a list of numbers.'''\n",
    "\n",
    "# Ans\n",
    "import math\n",
    "\n",
    "def calculate_variance(numbers):\n",
    "    if not numbers or len(numbers) == 1:\n",
    "        return None  # Return None for an empty list or a single element list\n",
    "    \n",
    "    mean = sum(numbers) / len(numbers)\n",
    "    variance = sum((x - mean) ** 2 for x in numbers) / len(numbers)\n",
    "    \n",
    "    return variance\n",
    "\n",
    "def calculate_standard_deviation(numbers):\n",
    "    variance = calculate_variance(numbers)\n",
    "    if variance is None:\n",
    "        return None  # Return None if variance cannot be calculated\n",
    "    \n",
    "    standard_deviation = math.sqrt(variance)\n",
    "    \n",
    "    return standard_deviation\n",
    "\n",
    "# Example usage:\n",
    "\n",
    "variance_value = calculate_variance(int_list2)\n",
    "std_deviation_value = calculate_standard_deviation(int_list2)\n",
    "\n",
    "print(\"Variance:\", variance_value)\n",
    "print(\"Standard Deviation:\", std_deviation_value)\n"
   ]
  },
  {
   "cell_type": "code",
   "execution_count": 19,
   "id": "b15d541c-3232-4236-9633-d159a4b00d5f",
   "metadata": {},
   "outputs": [
    {
     "name": "stdout",
     "output_type": "stream",
     "text": [
      "Interquartile Range (IQR) of int_list2: 49\n"
     ]
    }
   ],
   "source": [
    "'''(iv) Implement a function to compute the interquartile range (IQR) of a list of values.'''\n",
    "\n",
    "# Ans\n",
    "def calculate_iqr(numbers):\n",
    "    if not numbers:\n",
    "        return None  # Return None for an empty list\n",
    "    \n",
    "    sorted_numbers = sorted(numbers)\n",
    "    n = len(sorted_numbers)\n",
    "    q1_index = (n - 1) // 4\n",
    "    q3_index = 3 * (n - 1) // 4\n",
    "\n",
    "    q1 = sorted_numbers[q1_index]\n",
    "    q3 = sorted_numbers[q3_index]\n",
    "\n",
    "    iqr = q3 - q1\n",
    "    \n",
    "    return iqr\n",
    "\n",
    "# Example usage with int_list2:\n",
    "iqr_value = calculate_iqr(int_list2)\n",
    "\n",
    "print(\"Interquartile Range (IQR) of int_list2:\", iqr_value)\n"
   ]
  },
  {
   "cell_type": "code",
   "execution_count": 20,
   "id": "8f466536-cb52-4a96-bff8-e07f78391e68",
   "metadata": {},
   "outputs": [
    {
     "name": "stdout",
     "output_type": "stream",
     "text": [
      "Coefficient of Variation: 11.438167149219415\n"
     ]
    }
   ],
   "source": [
    "'''(v) Build a program to calculate the coefficient of variation for a dataset'''\n",
    "\n",
    "# Ans\n",
    "def calculate_coefficient_of_variation(numbers):\n",
    "    if not numbers or len(numbers) == 1:\n",
    "        return None  # Return None for an empty list or a single element list\n",
    "    \n",
    "    mean = sum(numbers) / len(numbers)\n",
    "    standard_deviation = math.sqrt(sum((x - mean) ** 2 for x in numbers) / len(numbers))\n",
    "    \n",
    "    if mean == 0:\n",
    "        return None  # Return None if mean is zero\n",
    "    \n",
    "    coefficient_of_variation = (standard_deviation / mean) * 100\n",
    "    \n",
    "    return coefficient_of_variation\n",
    "\n",
    "# Example usage with int_list2:\n",
    "cv_value = calculate_coefficient_of_variation(int_list2)\n",
    "\n",
    "print(\"Coefficient of Variation:\", cv_value)\n"
   ]
  },
  {
   "cell_type": "code",
   "execution_count": 21,
   "id": "cb79e42b-7a36-4ea0-8f38-c9b28583cadb",
   "metadata": {},
   "outputs": [
    {
     "name": "stdout",
     "output_type": "stream",
     "text": [
      "Mean Absolute Deviation (MAD): 24.777999999999988\n"
     ]
    }
   ],
   "source": [
    "''''  (vi) Write a Python function to find the mean absolute deviation (MAD) of a list of numbers.'''\n",
    "\n",
    "# Ans\n",
    "def calculate_mean_absolute_deviation(numbers):\n",
    "    if not numbers:\n",
    "        return None  # Return None for an empty list\n",
    "    \n",
    "    mean = sum(numbers) / len(numbers)\n",
    "    absolute_deviations = [abs(x - mean) for x in numbers]\n",
    "    mad = sum(absolute_deviations) / len(absolute_deviations)\n",
    "    \n",
    "    return mad\n",
    "\n",
    "# Example usage with int_list2:\n",
    "mad_value = calculate_mean_absolute_deviation(int_list2)\n",
    "\n",
    "print(\"Mean Absolute Deviation (MAD):\", mad_value)"
   ]
  },
  {
   "cell_type": "code",
   "execution_count": 22,
   "id": "102d82a3-2fbd-4d4f-99b3-572e540351e6",
   "metadata": {},
   "outputs": [
    {
     "name": "stdout",
     "output_type": "stream",
     "text": [
      "Quartile Deviation: 24.5\n"
     ]
    }
   ],
   "source": [
    "''' (vii) Create a program to calculate the quartile deviation of a list of values.'''\n",
    "\n",
    "# Ans\n",
    "def calculate_quartile_deviation(numbers):\n",
    "    if not numbers:\n",
    "        return None  # Return None for an empty list\n",
    "    \n",
    "    sorted_numbers = sorted(numbers)\n",
    "    n = len(sorted_numbers)\n",
    "    q1_index = (n - 1) // 4\n",
    "    q3_index = 3 * (n - 1) // 4\n",
    "\n",
    "    q1 = sorted_numbers[q1_index]\n",
    "    q3 = sorted_numbers[q3_index]\n",
    "\n",
    "    quartile_deviation = (q3 - q1) / 2\n",
    "    \n",
    "    return quartile_deviation\n",
    "\n",
    "# Example usage with int_list2:\n",
    "quartile_deviation_value = calculate_quartile_deviation(int_list2)\n",
    "\n",
    "print(\"Quartile Deviation:\", quartile_deviation_value)\n"
   ]
  },
  {
   "cell_type": "code",
   "execution_count": 23,
   "id": "17c1c083-034a-4414-b63e-b2be8ff77326",
   "metadata": {},
   "outputs": [
    {
     "name": "stdout",
     "output_type": "stream",
     "text": [
      "Range-Based Coefficient of Dispersion: 40.077911459878\n"
     ]
    }
   ],
   "source": [
    "'''  (viii) Implement a function to find the range-based coefficient of dispersion for a dataset.'''\n",
    "\n",
    "# Ans\n",
    "def calculate_range_coefficient_of_dispersion(numbers):\n",
    "    if not numbers or len(numbers) == 1:\n",
    "        return None  # Return None for an empty list or a single element list\n",
    "    \n",
    "    range_value = max(numbers) - min(numbers)\n",
    "    mean = sum(numbers) / len(numbers)\n",
    "    \n",
    "    if mean == 0:\n",
    "        return None  # Return None if mean is zero\n",
    "    \n",
    "    coefficient_of_dispersion = (range_value / mean) * 100\n",
    "    \n",
    "    return coefficient_of_dispersion\n",
    "\n",
    "# Example usage with int_list2:\n",
    "range_cod_value = calculate_range_coefficient_of_dispersion(int_list2)\n",
    "\n",
    "print(\"Range-Based Coefficient of Dispersion:\", range_cod_value)\n"
   ]
  },
  {
   "cell_type": "code",
   "execution_count": 24,
   "id": "3637223c-e555-4f34-8f27-404400026557",
   "metadata": {},
   "outputs": [
    {
     "name": "stdout",
     "output_type": "stream",
     "text": [
      "Expected Value: 3.2\n",
      "Variance: 1.56\n"
     ]
    }
   ],
   "source": [
    "'''3)  Write a Python class representing a discrete random variable with methods to calculate its expected\n",
    "value and variance.'''\n",
    "\n",
    "# Ans\n",
    "class DiscreteRandomVariable:\n",
    "    def __init__(self, values, probabilities):\n",
    "        if len(values) != len(probabilities):\n",
    "            raise ValueError(\"Number of values and probabilities must be equal\")\n",
    "        \n",
    "        self.values = values\n",
    "        self.probabilities = probabilities\n",
    "\n",
    "    def expected_value(self):\n",
    "        return sum(value * prob for value, prob in zip(self.values, self.probabilities))\n",
    "\n",
    "    def variance(self):\n",
    "        mean = self.expected_value()\n",
    "        deviations = [(value - mean) ** 2 for value in self.values]\n",
    "        variance = sum(prob * dev for prob, dev in zip(self.probabilities, deviations))\n",
    "        return variance\n",
    "\n",
    "# Example usage:\n",
    "values = [1, 2, 3, 4, 5]\n",
    "probabilities = [0.1, 0.2, 0.3, 0.2, 0.2]\n",
    "random_variable = DiscreteRandomVariable(values, probabilities)\n",
    "\n",
    "expected_val = random_variable.expected_value()\n",
    "variance_val = random_variable.variance()\n",
    "\n",
    "print(\"Expected Value:\", expected_val)\n",
    "print(\"Variance:\", variance_val)\n"
   ]
  },
  {
   "cell_type": "code",
   "execution_count": 25,
   "id": "ae43deb5-90ba-4a3d-b98d-f8833080e9ee",
   "metadata": {},
   "outputs": [
    {
     "name": "stdout",
     "output_type": "stream",
     "text": [
      "Simulated Outcomes (1000 rolls): [3, 1, 3, 2, 5, 2, 6, 6, 2, 6]\n",
      "Expected Value: 3.5\n",
      "Variance: 2.9166666666666665\n"
     ]
    }
   ],
   "source": [
    "'''4) Implement a program to simulate the rolling o6 a 6air six-sided die and calculate the expected value and\n",
    "variance of the outcomes'''\n",
    "\n",
    "# Ans\n",
    "import random\n",
    "\n",
    "class DiceRollSimulator:\n",
    "    def __init__(self, sides=6):\n",
    "        self.sides = sides\n",
    "\n",
    "    def roll_dice(self):\n",
    "        return random.randint(1, self.sides)\n",
    "\n",
    "    def simulate_rolls(self, num_rolls):\n",
    "        outcomes = [self.roll_dice() for _ in range(num_rolls)]\n",
    "        return outcomes\n",
    "\n",
    "    def expected_value(self):\n",
    "        return (self.sides + 1) / 2  # Expected value of a fair die is (n + 1) / 2 where n is the number of sides\n",
    "\n",
    "    def variance(self):\n",
    "        return ((self.sides ** 2) - 1) / 12  # Variance of a fair die is (n^2 - 1) / 12 where n is the number of sides\n",
    "\n",
    "# Example usage:\n",
    "num_rolls = 1000\n",
    "dice_simulator = DiceRollSimulator()\n",
    "\n",
    "outcomes = dice_simulator.simulate_rolls(num_rolls)\n",
    "expected_val = dice_simulator.expected_value()\n",
    "variance_val = dice_simulator.variance()\n",
    "\n",
    "print(\"Simulated Outcomes ({} rolls):\".format(num_rolls), outcomes[:10])\n",
    "print(\"Expected Value:\", expected_val)\n",
    "print(\"Variance:\", variance_val)\n"
   ]
  },
  {
   "cell_type": "code",
   "execution_count": 26,
   "id": "e55dfd83-113d-4185-b72f-c48cbddc4bf6",
   "metadata": {},
   "outputs": [
    {
     "name": "stdout",
     "output_type": "stream",
     "text": [
      "Random Samples (1000 samples): [4 4 4 7 7 6 2 4 5 5]\n",
      "Mean: 5.048\n",
      "Variance: 2.359696\n"
     ]
    }
   ],
   "source": [
    "'''5) Create a Python function to generate random samples from a given probability distribution (e.g.,\n",
    "binomial, Poisson) and calculate their mean and variance'''\n",
    "\n",
    "# Ans\n",
    "import numpy as np\n",
    "\n",
    "def generate_random_samples(distribution, params, num_samples):\n",
    "    if distribution == 'binomial':\n",
    "        n, p = params\n",
    "        samples = np.random.binomial(n, p, num_samples)\n",
    "    elif distribution == 'poisson':\n",
    "        lam = params\n",
    "        samples = np.random.poisson(lam, num_samples)\n",
    "    else:\n",
    "        raise ValueError(\"Unsupported distribution. Choose 'binomial' or 'poisson'.\")\n",
    "\n",
    "    mean_value = np.mean(samples)\n",
    "    variance_value = np.var(samples)\n",
    "\n",
    "    return samples, mean_value, variance_value\n",
    "\n",
    "# Example usage:\n",
    "distribution_type = 'binomial'\n",
    "distribution_params = (10, 0.5)  # n=10, p=0.5 for binomial distribution\n",
    "num_samples = 1000\n",
    "\n",
    "samples, mean_value, variance_value = generate_random_samples(distribution_type, distribution_params, num_samples)\n",
    "\n",
    "print(\"Random Samples ({} samples):\".format(num_samples), samples[:10])\n",
    "print(\"Mean:\", mean_value)\n",
    "print(\"Variance:\", variance_value)\n"
   ]
  },
  {
   "cell_type": "code",
   "execution_count": 27,
   "id": "c741d1ba-eb68-478b-8c95-35c604f19a6d",
   "metadata": {},
   "outputs": [
    {
     "name": "stdout",
     "output_type": "stream",
     "text": [
      "Random Samples (1000 samples): [-0.03941056 -0.23985102  0.28282597 -0.25661575  0.99267133 -1.26387063\n",
      " -2.20545979 -1.64490766 -0.46580353 -0.09659506]\n",
      "Mean: 0.0004674892041159309\n",
      "Variance: 0.9507351558323612\n",
      "Standard Deviation: 0.9750564885340548\n"
     ]
    }
   ],
   "source": [
    "'''6) Write a Python script to generate random numbers from a Gaussian (normal) distribution and compute\n",
    "the mean, variance, and standard deviation of the samples'''\n",
    "\n",
    "# Ans\n",
    "import numpy as np\n",
    "\n",
    "# Parameters\n",
    "mean = 0  # Mean of the normal distribution\n",
    "std_dev = 1  # Standard deviation of the normal distribution\n",
    "num_samples = 1000  # Number of random samples to generate\n",
    "\n",
    "# Generate random samples from a normal distribution\n",
    "samples = np.random.normal(mean, std_dev, num_samples)\n",
    "\n",
    "# Calculate mean, variance, and standard deviation\n",
    "mean_value = np.mean(samples)\n",
    "variance_value = np.var(samples)\n",
    "std_dev_value = np.std(samples)\n",
    "\n",
    "# Print results\n",
    "print(\"Random Samples ({} samples):\".format(num_samples), samples[:10])\n",
    "print(\"Mean:\", mean_value)\n",
    "print(\"Variance:\", variance_value)\n",
    "print(\"Standard Deviation:\", std_dev_value)\n"
   ]
  }
 ],
 "metadata": {
  "kernelspec": {
   "display_name": "Python 3 (ipykernel)",
   "language": "python",
   "name": "python3"
  },
  "language_info": {
   "codemirror_mode": {
    "name": "ipython",
    "version": 3
   },
   "file_extension": ".py",
   "mimetype": "text/x-python",
   "name": "python",
   "nbconvert_exporter": "python",
   "pygments_lexer": "ipython3",
   "version": "3.10.8"
  }
 },
 "nbformat": 4,
 "nbformat_minor": 5
}
