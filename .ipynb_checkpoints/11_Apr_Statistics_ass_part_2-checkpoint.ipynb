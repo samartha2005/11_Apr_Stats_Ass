{
 "cells": [
  {
   "cell_type": "code",
   "execution_count": 12,
   "id": "1b43d321-3cda-4883-b3f8-710fed573093",
   "metadata": {},
   "outputs": [
    {
     "name": "stdout",
     "output_type": "stream",
     "text": [
      "First few rows of the 'tips' dataset:\n",
      "   total_bill   tip     sex smoker  day    time  size\n",
      "0       16.99  1.01  Female     No  Sun  Dinner     2\n",
      "1       10.34  1.66    Male     No  Sun  Dinner     3\n",
      "2       21.01  3.50    Male     No  Sun  Dinner     3\n",
      "3       23.68  3.31    Male     No  Sun  Dinner     2\n",
      "4       24.59  3.61  Female     No  Sun  Dinner     4\n",
      "\n",
      "Statistics for the 'total_bill' column:\n",
      "Mean: 19.78594262295082\n",
      "Median: 17.795\n",
      "Minimum: 3.07\n",
      "Maximum: 50.81\n",
      "\n",
      "Statistics for the 'tip' column:\n",
      "Mean: 2.99827868852459\n",
      "Median: 2.9\n",
      "Minimum: 1.0\n",
      "Maximum: 10.0\n"
     ]
    }
   ],
   "source": [
    "'''7) Use seaborn library to load tips dataset. Find the following from the dataset for the columns total_bill\n",
    "and tip`:'''\n",
    "\n",
    "# Ans\n",
    "import seaborn as sns\n",
    "import pandas as pd\n",
    "from scipy.stats import skew\n",
    "import numpy as np\n",
    "import matplotlib.pyplot as plt\n",
    "\n",
    "# Load the \"tips\" dataset from Seaborn\n",
    "tips_df = sns.load_dataset('tips')\n",
    "\n",
    "# Display the first few rows of the dataset\n",
    "print(\"First few rows of the 'tips' dataset:\")\n",
    "print(tips_df.head())\n",
    "\n",
    "# Calculate statistics for the \"total_bill\" and \"tip\" columns\n",
    "total_bill_mean = tips_df['total_bill'].mean()\n",
    "total_bill_median = tips_df['total_bill'].median()\n",
    "total_bill_min = tips_df['total_bill'].min()\n",
    "total_bill_max = tips_df['total_bill'].max()\n",
    "\n",
    "tip_mean = tips_df['tip'].mean()\n",
    "tip_median = tips_df['tip'].median()\n",
    "tip_min = tips_df['tip'].min()\n",
    "tip_max = tips_df['tip'].max()\n",
    "\n",
    "# Print the calculated statistics\n",
    "print(\"\\nStatistics for the 'total_bill' column:\")\n",
    "print(\"Mean:\", total_bill_mean)\n",
    "print(\"Median:\", total_bill_median)\n",
    "print(\"Minimum:\", total_bill_min)\n",
    "print(\"Maximum:\", total_bill_max)\n",
    "\n",
    "print(\"\\nStatistics for the 'tip' column:\")\n",
    "print(\"Mean:\", tip_mean)\n",
    "print(\"Median:\", tip_median)\n",
    "print(\"Minimum:\", tip_min)\n",
    "print(\"Maximum:\", tip_max)\n"
   ]
  },
  {
   "cell_type": "code",
   "execution_count": 8,
   "id": "c09243ad-3953-4afe-88a6-59c96571e3ac",
   "metadata": {},
   "outputs": [
    {
     "name": "stdout",
     "output_type": "stream",
     "text": [
      "Skewness for the 'total_bill' column: 1.1262346334818638\n",
      "Skewness for the 'tip' column: 1.4564266884221506\n"
     ]
    }
   ],
   "source": [
    "'''(i) Write a Python function that calculates their skewness.'''\n",
    "\n",
    "# Ans\n",
    "def calculate_skewness(dataframe, column_name):\n",
    "    if column_name not in dataframe.columns:\n",
    "        raise ValueError(\"Column '{}' not found in the DataFrame.\".format(column_name))\n",
    "    \n",
    "    column_data = dataframe[column_name]\n",
    "    skewness_value = skew(column_data)\n",
    "    \n",
    "    return skewness_value\n",
    "# Calculate skewness for the \"total_bill\" and \"tip\" columns\n",
    "total_bill_skewness = calculate_skewness(tips_df, 'total_bill')\n",
    "tip_skewness = calculate_skewness(tips_df, 'tip')\n",
    "\n",
    "# Print the calculated skewness values\n",
    "print(\"Skewness for the 'total_bill' column:\", total_bill_skewness)\n",
    "print(\"Skewness for the 'tip' column:\", tip_skewness)"
   ]
  },
  {
   "cell_type": "code",
   "execution_count": 9,
   "id": "9b445e26-3ecb-4a7f-8b72-b0357d5a205f",
   "metadata": {},
   "outputs": [
    {
     "name": "stdout",
     "output_type": "stream",
     "text": [
      "Skewness category for the 'total_bill' column: Positive skewness\n",
      "Skewness category for the 'tip' column: Positive skewness\n"
     ]
    }
   ],
   "source": [
    "'''(ii)Create a program that determines whether the columns exhibit positive skewness, negative skewness, or is\n",
    "approximately symmetric.'''\n",
    "\n",
    "# Ans\n",
    "def calculate_skewness_category(skewness_value):\n",
    "    if skewness_value > 0.5:\n",
    "        return \"Positive skewness\"\n",
    "    elif skewness_value < -0.5:\n",
    "        return \"Negative skewness\"\n",
    "    else:\n",
    "        return \"Approximately symmetric\"\n",
    "# Calculate skewness for the \"total_bill\" and \"tip\" columns\n",
    "total_bill_skewness = skew(tips_df['total_bill'])\n",
    "tip_skewness = skew(tips_df['tip'])\n",
    "\n",
    "# Determine skewness category for each column\n",
    "total_bill_skewness_category = calculate_skewness_category(total_bill_skewness)\n",
    "tip_skewness_category = calculate_skewness_category(tip_skewness)\n",
    "\n",
    "# Print the skewness categories\n",
    "print(\"Skewness category for the 'total_bill' column:\", total_bill_skewness_category)\n",
    "print(\"Skewness category for the 'tip' column:\", tip_skewness_category)"
   ]
  },
  {
   "cell_type": "code",
   "execution_count": 10,
   "id": "bcc9b4dc-0ab5-4fdf-8a0b-8d4bcd2ba92f",
   "metadata": {},
   "outputs": [
    {
     "name": "stdout",
     "output_type": "stream",
     "text": [
      "Covariance between 'total_bill' and 'tip' columns: 8.323501629224854\n"
     ]
    }
   ],
   "source": [
    "'''(iii)Write a function that calculates the covariance between two columns.'''\n",
    "\n",
    "# Ans\n",
    "def calculate_covariance(dataframe, column1, column2):\n",
    "    if column1 not in dataframe.columns or column2 not in dataframe.columns:\n",
    "        raise ValueError(\"One or both of the specified columns not found in the DataFrame.\")\n",
    "    \n",
    "    covariance_value = np.cov(dataframe[column1], dataframe[column2])[0][1]\n",
    "    \n",
    "    return covariance_value\n",
    "# Calculate covariance between \"total_bill\" and \"tip\" columns\n",
    "covariance_value = calculate_covariance(tips_df, 'total_bill', 'tip')\n",
    "\n",
    "# Print the calculated covariance\n",
    "print(\"Covariance between 'total_bill' and 'tip' columns:\", covariance_value)"
   ]
  },
  {
   "cell_type": "code",
   "execution_count": 11,
   "id": "f1bb3e0d-b8b9-45a3-88f6-1294aafa6c8f",
   "metadata": {},
   "outputs": [
    {
     "name": "stdout",
     "output_type": "stream",
     "text": [
      "Pearson correlation coefficient between 'total_bill' and 'tip' columns: 0.6757341092113641\n"
     ]
    }
   ],
   "source": [
    "'''(iv) Implement a Python program that calculates the Pearson correlation coefficient between two columns.'''\n",
    "\n",
    "# Ans\n",
    "def calculate_pearson_correlation(dataframe, column1, column2):\n",
    "    if column1 not in dataframe.columns or column2 not in dataframe.columns:\n",
    "        raise ValueError(\"One or both of the specified columns not found in the DataFrame.\")\n",
    "    \n",
    "    correlation_value = np.corrcoef(dataframe[column1], dataframe[column2])[0, 1]\n",
    "    \n",
    "    return correlation_value\n",
    "# Calculate Pearson correlation between \"total_bill\" and \"tip\" columns\n",
    "correlation_value = calculate_pearson_correlation(tips_df, 'total_bill', 'tip')\n",
    "\n",
    "# Print the calculated Pearson correlation coefficient\n",
    "print(\"Pearson correlation coefficient between 'total_bill' and 'tip' columns:\", correlation_value)"
   ]
  },
  {
   "cell_type": "code",
   "execution_count": 13,
   "id": "7bd0793e-881d-4352-9862-7cbb5e573ee7",
   "metadata": {},
   "outputs": [
    {
     "data": {
      "image/png": "[encoded data removed]",
      "text/plain": [
       "<Figure size 800x600 with 1 Axes>"
      ]
     },
     "metadata": {},
     "output_type": "display_data"
    }
   ],
   "source": [
    "'''(v)Write a script to visualize the correlation between two specific columns in a Pandas DataFrame using\n",
    "scatter plots'''\n",
    "\n",
    "# Ans\n",
    "# Specify the columns to visualize\n",
    "column1 = 'total_bill'\n",
    "column2 = 'tip'\n",
    "\n",
    "# Create a scatter plot\n",
    "plt.figure(figsize=(8, 6))\n",
    "sns.scatterplot(data=tips_df, x=column1, y=column2)\n",
    "plt.title('Scatter Plot: {} vs {}'.format(column1, column2))\n",
    "plt.xlabel(column1)\n",
    "plt.ylabel(column2)\n",
    "plt.grid(True)\n",
    "plt.show()"
   ]
  },
  {
   "cell_type": "code",
   "execution_count": 15,
   "id": "eb6a5ae7-5144-43c4-8207-9f278817e1f2",
   "metadata": {},
   "outputs": [
    {
     "name": "stdout",
     "output_type": "stream",
     "text": [
      "PDF at x=-2: 0.053991\n",
      "PDF at x=-1: 0.241971\n",
      "PDF at x=0: 0.398942\n",
      "PDF at x=1: 0.241971\n",
      "PDF at x=2: 0.053991\n"
     ]
    }
   ],
   "source": [
    "'''8.) Write a Python function to calculate the probability density function (PDF) o6 a continuous random\n",
    "variable 6or a given normal distribution.'''\n",
    "\n",
    "# Ans\n",
    "from scipy.stats import norm\n",
    "def calculate_normal_pdf(x, mean, std_dev):\n",
    "    pdf_value = norm.pdf(x, loc=mean, scale=std_dev)\n",
    "    return pdf_value\n",
    "\n",
    "# Example usage:\n",
    "mean = 0  # Mean of the normal distribution\n",
    "std_dev = 1  # Standard deviation of the normal distribution\n",
    "x_values = [-2, -1, 0, 1, 2]  # Values of the random variable to calculate PDF for\n",
    "\n",
    "pdf_values = [calculate_normal_pdf(x, mean, std_dev) for x in x_values]\n",
    "\n",
    "# Print the calculated PDF values\n",
    "for x, pdf in zip(x_values, pdf_values):\n",
    "    print(\"PDF at x={}: {:.6f}\".format(x, pdf))"
   ]
  },
  {
   "cell_type": "code",
   "execution_count": 16,
   "id": "71f12538-d099-4ab7-bc4e-d68d9b83439d",
   "metadata": {},
   "outputs": [
    {
     "data": {
      "image/png": "[encoded data removed]",
      "text/plain": [
       "<Figure size 800x600 with 1 Axes>"
      ]
     },
     "metadata": {},
     "output_type": "display_data"
    }
   ],
   "source": [
    "'''9.Create a program to calculate the cumulative distribution 6unction (CDF) o6 exponential distribution.'''\n",
    "\n",
    "# Ans\n",
    "from scipy.stats import expon\n",
    "# Parameters for the exponential distribution\n",
    "scale_parameter = 1.0  # Scale parameter (lambda) for the exponential distribution\n",
    "\n",
    "# Generate random values from the exponential distribution\n",
    "x = np.linspace(0, 5, 1000)  # Range of x values\n",
    "cdf_values = expon.cdf(x, scale=scale_parameter)  # Calculate CDF values\n",
    "\n",
    "# Plotting the CDF\n",
    "plt.figure(figsize=(8, 6))\n",
    "plt.plot(x, cdf_values, label='Exponential CDF')\n",
    "plt.title('Cumulative Distribution Function (CDF) of Exponential Distribution')\n",
    "plt.xlabel('x')\n",
    "plt.ylabel('CDF')\n",
    "plt.legend()\n",
    "plt.grid(True)\n",
    "plt.show()"
   ]
  },
  {
   "cell_type": "code",
   "execution_count": 17,
   "id": "d7e3c7ed-eecd-4b04-913d-9412530e703f",
   "metadata": {},
   "outputs": [
    {
     "name": "stdout",
     "output_type": "stream",
     "text": [
      "PMF at k=0: 0.049787\n",
      "PMF at k=1: 0.149361\n",
      "PMF at k=2: 0.224042\n",
      "PMF at k=3: 0.224042\n",
      "PMF at k=4: 0.168031\n"
     ]
    }
   ],
   "source": [
    "'''10. Write a Python function to calculate the probability mass function (PMF) o6 Poisson distribution.'''\n",
    "\n",
    "# Ans\n",
    "from scipy.stats import poisson\n",
    "\n",
    "def calculate_poisson_pmf(k, mu):\n",
    "    pmf_value = poisson.pmf(k, mu)\n",
    "    return pmf_value\n",
    "\n",
    "# Example usage:\n",
    "mu = 3  # Mean (lambda) parameter of the Poisson distribution\n",
    "k_values = [0, 1, 2, 3, 4]  # Values of the random variable to calculate PMF for\n",
    "\n",
    "pmf_values = [calculate_poisson_pmf(k, mu) for k in k_values]\n",
    "\n",
    "# Print the calculated PMF values\n",
    "for k, pmf in zip(k_values, pmf_values):\n",
    "    print(\"PMF at k={}: {:.6f}\".format(k, pmf))\n"
   ]
  },
  {
   "cell_type": "code",
   "execution_count": 18,
   "id": "c496ef59-8fc8-45f7-b8ec-e66c86e1d2b5",
   "metadata": {},
   "outputs": [
    {
     "name": "stdout",
     "output_type": "stream",
     "text": [
      "Fail to reject the null hypothesis. There is no significant difference in conversion rates.\n",
      "Z-score: 1.883108942886774\n",
      "P-value: 0.05968560553242619\n"
     ]
    }
   ],
   "source": [
    "'''11.A company wants to test if a new website layout leads to a higher conversion rate (percentage of visitors\n",
    "who make a purchase). They collect data from the old and new layouts to compare.'''\n",
    "\n",
    "# Ans\n",
    "import numpy as np\n",
    "from scipy.stats import norm\n",
    "\n",
    "# Define data for the old and new website layouts\n",
    "old_layout = np.array([1] * 50 + [0] * 950)\n",
    "new_layout = np.array([1] * 70 + [0] * 930)\n",
    "\n",
    "# Calculate sample proportions and sample sizes\n",
    "n_old = len(old_layout)\n",
    "n_new = len(new_layout)\n",
    "p_old = np.mean(old_layout)\n",
    "p_new = np.mean(new_layout)\n",
    "\n",
    "# Calculate pooled sample proportion\n",
    "p_pool = (p_old * n_old + p_new * n_new) / (n_old + n_new)\n",
    "\n",
    "# Calculate z-score and p-value using the z-test\n",
    "z_score = (p_new - p_old) / np.sqrt(p_pool * (1 - p_pool) * (1 / n_old + 1 / n_new))\n",
    "p_value = 2 * (1 - norm.cdf(np.abs(z_score)))\n",
    "\n",
    "# Interpret the results\n",
    "alpha = 0.05  # Significance level\n",
    "if p_value < alpha:\n",
    "    print(\"Reject the null hypothesis. The new layout leads to a higher conversion rate.\")\n",
    "else:\n",
    "    print(\"Fail to reject the null hypothesis. There is no significant difference in conversion rates.\")\n",
    "\n",
    "# Print z-score and p-value\n",
    "print(\"Z-score:\", z_score)\n",
    "print(\"P-value:\", p_value)\n"
   ]
  },
  {
   "cell_type": "code",
   "execution_count": 19,
   "id": "105293a2-87e5-4a2a-9b93-cac4d8de5d9e",
   "metadata": {},
   "outputs": [
    {
     "name": "stdout",
     "output_type": "stream",
     "text": [
      "Reject the null hypothesis. The tutoring program improves exam scores.\n",
      "Z-score: 4.593190894944668\n",
      "P-value: 4.365194105293568e-06\n"
     ]
    }
   ],
   "source": [
    "'''12.A tutoring service claims that its program improves students' exam scores. A sample of students who\n",
    "participated in the program was taken, and their scores before and after the program were recorded.'''\n",
    "\n",
    "\n",
    "# Ans\n",
    "# Define data for before and after program scores\n",
    "before_program = np.array([75, 80, 85, 70, 90, 78, 92, 88, 82, 87])\n",
    "after_program = np.array([80, 85, 90, 80, 92, 80, 95, 90, 85, 88])\n",
    "\n",
    "# Calculate differences between paired samples\n",
    "differences = after_program - before_program\n",
    "\n",
    "# Calculate mean difference, standard deviation of differences, and standard error of mean difference\n",
    "mean_difference = np.mean(differences)\n",
    "std_dev_difference = np.std(differences, ddof=1)  # ddof=1 for sample standard deviation\n",
    "sem_difference = std_dev_difference / np.sqrt(len(differences))\n",
    "\n",
    "# Calculate z-score and p-value using z-test for paired samples\n",
    "z_score = mean_difference / sem_difference\n",
    "p_value = 2 * (1 - norm.cdf(np.abs(z_score)))  # Two-tailed test\n",
    "\n",
    "# Interpret the results\n",
    "alpha = 0.05  # Significance level\n",
    "if p_value < alpha:\n",
    "    print(\"Reject the null hypothesis. The tutoring program improves exam scores.\")\n",
    "else:\n",
    "    print(\"Fail to reject the null hypothesis. There is no significant improvement in exam scores.\")\n",
    "\n",
    "# Print z-score and p-value\n",
    "print(\"Z-score:\", z_score)\n",
    "print(\"P-value:\", p_value)"
   ]
  },
  {
   "cell_type": "code",
   "execution_count": 20,
   "id": "79786834-9cad-4f15-88ae-597384674920",
   "metadata": {},
   "outputs": [
    {
     "name": "stdout",
     "output_type": "stream",
     "text": [
      "Reject the null hypothesis. The drug is effective in reducing blood pressure.\n",
      "Z-score: -10.049875621120888\n",
      "P-value: 0.0\n"
     ]
    }
   ],
   "source": [
    "'''13. A pharmaceutical company wants to determine if a new drug is effective in reducing blood pressure. They\n",
    "conduct a study and record blood pressure measurements before and after administering the drug.'''\n",
    "\n",
    "# Ans\n",
    "# Define data for before and after drug measurements\n",
    "before_drug = np.array([145, 150, 140, 135, 155, 160, 152, 148, 130, 138])\n",
    "after_drug = np.array([130, 140, 132, 128, 145, 148, 138, 136, 125, 130])\n",
    "\n",
    "# Calculate differences between paired samples\n",
    "differences = after_drug - before_drug\n",
    "\n",
    "# Calculate mean difference, standard deviation of differences, and standard error of mean difference\n",
    "mean_difference = np.mean(differences)\n",
    "std_dev_difference = np.std(differences, ddof=1)  # ddof=1 for sample standard deviation\n",
    "sem_difference = std_dev_difference / np.sqrt(len(differences))\n",
    "\n",
    "# Calculate z-score and p-value using z-test for paired samples\n",
    "z_score = mean_difference / sem_difference\n",
    "p_value = 2 * (1 - norm.cdf(np.abs(z_score)))  # Two-tailed test\n",
    "\n",
    "# Interpret the results\n",
    "alpha = 0.05  # Significance level\n",
    "if p_value < alpha:\n",
    "    print(\"Reject the null hypothesis. The drug is effective in reducing blood pressure.\")\n",
    "else:\n",
    "    print(\"Fail to reject the null hypothesis. There is no significant reduction in blood pressure.\")\n",
    "\n",
    "# Print z-score and p-value\n",
    "print(\"Z-score:\", z_score)\n",
    "print(\"P-value:\", p_value)"
   ]
  },
  {
   "cell_type": "code",
   "execution_count": 21,
   "id": "41c0c5aa-097f-4b5d-8971-755a7f9c73ec",
   "metadata": {},
   "outputs": [
    {
     "name": "stdout",
     "output_type": "stream",
     "text": [
      "Reject the null hypothesis. The average response time is less than 5 minutes.\n",
      "Z-score: -3.184457226042963\n",
      "P-value: 0.0007251287113069216\n",
      "Sample Mean: 4.57\n"
     ]
    }
   ],
   "source": [
    "'''14.A customer service department claims that their average response time is less than 5 minutes. A sample\n",
    "of recent customer interactions was taken, and the response times were recorded.'''\n",
    "\n",
    "# Ans\n",
    "# Define data for response times\n",
    "response_times = np.array([4.3, 3.8, 5.1, 4.9, 4.7, 4.2, 5.2, 4.5, 4.6, 4.4])\n",
    "\n",
    "# Calculate sample statistics\n",
    "sample_mean = np.mean(response_times)\n",
    "sample_std_dev = np.std(response_times, ddof=1)  # ddof=1 for sample standard deviation\n",
    "sample_size = len(response_times)\n",
    "\n",
    "# Population parameters\n",
    "pop_mean = 5  # Population mean claim\n",
    "\n",
    "# Calculate standard error of the mean\n",
    "sem = sample_std_dev / np.sqrt(sample_size)\n",
    "\n",
    "# Calculate z-score and p-value using one-sample z-test\n",
    "z_score = (sample_mean - pop_mean) / sem\n",
    "p_value = 1 - norm.cdf(np.abs(z_score))  # One-tailed test for sample mean < population mean\n",
    "\n",
    "# Interpret the results\n",
    "alpha = 0.05  # Significance level\n",
    "if p_value < alpha:\n",
    "    print(\"Reject the null hypothesis. The average response time is less than 5 minutes.\")\n",
    "else:\n",
    "    print(\"Fail to reject the null hypothesis. There is no significant evidence that the average response time is less than 5 minutes.\")\n",
    "\n",
    "# Print z-score, p-value, and sample mean\n",
    "print(\"Z-score:\", z_score)\n",
    "print(\"P-value:\", p_value)\n",
    "print(\"Sample Mean:\", sample_mean)"
   ]
  },
  {
   "cell_type": "code",
   "execution_count": 22,
   "id": "fba916de-6bfb-4bfd-b9d7-d4e99091ab2a",
   "metadata": {},
   "outputs": [
    {
     "name": "stdout",
     "output_type": "stream",
     "text": [
      "A/B Test Results:\n",
      "T-statistic: -7.298102156175071\n",
      "Degrees of Freedom: 18\n",
      "P-value: 8.833437608301987e-07\n",
      "Conclusion: Reject the null hypothesis. There is a significant difference between the click-through rates of Layout A and Layout B.\n"
     ]
    }
   ],
   "source": [
    "'''15. A company is testing two different website layouts to see which one leads to higher click-through rates.\n",
    "Write a Python function to perform an A/B test analysis, including calculating the t-statistic, degrees of\n",
    "freedom, and p-value.'''\n",
    "\n",
    "# Ans\n",
    "import numpy as np\n",
    "from scipy.stats import ttest_ind\n",
    "\n",
    "def ab_test(layout_a_clicks, layout_b_clicks, alpha=0.05):\n",
    "    # Calculate sample statistics\n",
    "    mean_a = np.mean(layout_a_clicks)\n",
    "    mean_b = np.mean(layout_b_clicks)\n",
    "    var_a = np.var(layout_a_clicks, ddof=1)\n",
    "    var_b = np.var(layout_b_clicks, ddof=1)\n",
    "    n_a = len(layout_a_clicks)\n",
    "    n_b = len(layout_b_clicks)\n",
    "\n",
    "    # Calculate t-statistic and p-value using t-test for independent samples\n",
    "    t_stat, p_value = ttest_ind(layout_a_clicks, layout_b_clicks)\n",
    "\n",
    "    # Calculate degrees of freedom\n",
    "    dof = n_a + n_b - 2\n",
    "\n",
    "    # Interpret the results\n",
    "    if p_value < alpha:\n",
    "        result = \"Reject the null hypothesis. There is a significant difference between the click-through rates of Layout A and Layout B.\"\n",
    "    else:\n",
    "        result = \"Fail to reject the null hypothesis. There is no significant difference between the click-through rates of Layout A and Layout B.\"\n",
    "\n",
    "    return {\n",
    "        't_statistic': t_stat,\n",
    "        'degrees_of_freedom': dof,\n",
    "        'p_value': p_value,\n",
    "        'result': result\n",
    "    }\n",
    "\n",
    "# Example usage:\n",
    "layout_a_clicks = [28, 32, 33, 29, 31, 34, 30, 35, 36, 37]\n",
    "layout_b_clicks = [40, 41, 38, 42, 39, 44, 43, 41, 45, 47]\n",
    "\n",
    "result = ab_test(layout_a_clicks, layout_b_clicks)\n",
    "print(\"A/B Test Results:\")\n",
    "print(\"T-statistic:\", result['t_statistic'])\n",
    "print(\"Degrees of Freedom:\", result['degrees_of_freedom'])\n",
    "print(\"P-value:\", result['p_value'])\n",
    "print(\"Conclusion:\", result['result'])\n"
   ]
  },
  {
   "cell_type": "code",
   "execution_count": 24,
   "id": "082d3665-5d60-456c-804c-72727b1cd6ca",
   "metadata": {},
   "outputs": [
    {
     "name": "stdout",
     "output_type": "stream",
     "text": [
      "Clinical Trial Analysis Results:\n",
      "T-statistic: 4.14048098620866\n",
      "Degrees of Freedom: 18\n",
      "P-value: 0.0006143398442372505\n",
      "Conclusion: Reject the null hypothesis. The new drug is more effective than the existing drug in reducing cholesterol levels.\n"
     ]
    }
   ],
   "source": [
    "'''16. A pharmaceutical company wants to determine if a new drug is more effective than an existing drug in\n",
    "reducing cholesterol levelsV Create a program to analyze the clinical trial data and calculate the tstatistic and\n",
    "p-value for the treatment effect.'''\n",
    "\n",
    "# Ans\n",
    "def analyze_clinical_trial(existing_drug_levels, new_drug_levels, alpha=0.05):\n",
    "    # Calculate sample statistics\n",
    "    mean_existing = np.mean(existing_drug_levels)\n",
    "    mean_new = np.mean(new_drug_levels)\n",
    "    var_existing = np.var(existing_drug_levels, ddof=1)\n",
    "    var_new = np.var(new_drug_levels, ddof=1)\n",
    "    n_existing = len(existing_drug_levels)\n",
    "    n_new = len(new_drug_levels)\n",
    "\n",
    "    # Calculate t-statistic and p-value using t-test for independent samples\n",
    "    t_stat, p_value = ttest_ind(existing_drug_levels, new_drug_levels)\n",
    "\n",
    "    # Calculate degrees of freedom\n",
    "    dof = n_existing + n_new - 2\n",
    "\n",
    "    # Interpret the results\n",
    "    if p_value < alpha:\n",
    "        result = \"Reject the null hypothesis. The new drug is more effective than the existing drug in reducing cholesterol levels.\"\n",
    "    else:\n",
    "        result = \"Fail to reject the null hypothesis. There is no significant difference in the effectiveness of the new and existing drugs.\"\n",
    "\n",
    "    return {\n",
    "        't_statistic': t_stat,\n",
    "        'degrees_of_freedom': dof,\n",
    "        'p_value': p_value,\n",
    "        'result': result\n",
    "    }\n",
    "\n",
    "# Example usage:\n",
    "existing_drug_levels = [180, 182, 175, 185, 178, 176, 172, 184, 179, 183]\n",
    "new_drug_levels = [170, 172, 165, 168, 175, 173, 170, 178, 172, 176]\n",
    "\n",
    "result = analyze_clinical_trial(existing_drug_levels, new_drug_levels)\n",
    "print(\"Clinical Trial Analysis Results:\")\n",
    "print(\"T-statistic:\", result['t_statistic'])\n",
    "print(\"Degrees of Freedom:\", result['degrees_of_freedom'])\n",
    "print(\"P-value:\", result['p_value'])\n",
    "print(\"Conclusion:\", result['result'])"
   ]
  },
  {
   "cell_type": "code",
   "execution_count": 27,
   "id": "e66d2038-d736-4fdf-85f2-80126a420148",
   "metadata": {},
   "outputs": [
    {
     "name": "stdout",
     "output_type": "stream",
     "text": [
      "Intervention Analysis Results:\n",
      "T-statistic: 4.42840883965761\n",
      "Degrees of Freedom: 9\n",
      "P-value: 0.0016509548165795493\n",
      "Conclusion: Reject the null hypothesis. The intervention had a significant impact on math scores.\n"
     ]
    }
   ],
   "source": [
    "'''17.A school district introduces an educational intervention program to improve math scores. Write a Python\n",
    "function to analyze pre- and post-intervention test scores, calculating the t-statistic and p-value to\n",
    "determine if the intervention had a significant impact.'''\n",
    "\n",
    "# Ans\n",
    "def analyze_intervention(pre_intervention_scores, post_intervention_scores, alpha=0.05):\n",
    "    # Convert lists to numpy arrays\n",
    "    pre_intervention_scores = np.array(pre_intervention_scores)\n",
    "    post_intervention_scores = np.array(post_intervention_scores)\n",
    "    \n",
    "    # Calculate sample statistics\n",
    "    mean_pre = np.mean(pre_intervention_scores)\n",
    "    mean_post = np.mean(post_intervention_scores)\n",
    "    var_diff = np.var(post_intervention_scores - pre_intervention_scores, ddof=1)\n",
    "    n = len(pre_intervention_scores)\n",
    "\n",
    "    # Calculate t-statistic and p-value using paired samples t-test\n",
    "    t_stat, p_value = ttest_rel(post_intervention_scores, pre_intervention_scores)\n",
    "\n",
    "    # Calculate degrees of freedom\n",
    "    dof = n - 1\n",
    "\n",
    "    # Interpret the results\n",
    "    if p_value < alpha:\n",
    "        result = \"Reject the null hypothesis. The intervention had a significant impact on math scores.\"\n",
    "    else:\n",
    "        result = \"Fail to reject the null hypothesis. There is no significant impact of the intervention on math scores.\"\n",
    "\n",
    "    return {\n",
    "        't_statistic': t_stat,\n",
    "        'degrees_of_freedom': dof,\n",
    "        'p_value': p_value,\n",
    "        'result': result\n",
    "    }\n",
    "\n",
    "# Example usage:\n",
    "pre_intervention_scores = [80, 85, 90, 75, 88, 82, 92, 78, 85, 87]\n",
    "post_intervention_scores = [90, 92, 88, 92, 95, 91, 96, 93, 89, 93]\n",
    "\n",
    "result = analyze_intervention(pre_intervention_scores, post_intervention_scores)\n",
    "print(\"Intervention Analysis Results:\")\n",
    "print(\"T-statistic:\", result['t_statistic'])\n",
    "print(\"Degrees of Freedom:\", result['degrees_of_freedom'])\n",
    "print(\"P-value:\", result['p_value'])\n",
    "print(\"Conclusion:\", result['result'])\n",
    "    "
   ]
  },
  {
   "cell_type": "code",
   "execution_count": 28,
   "id": "d9660be8-6a26-47a4-aa8c-e165b815b00c",
   "metadata": {},
   "outputs": [
    {
     "name": "stdout",
     "output_type": "stream",
     "text": [
      "Salary Gap Analysis Results:\n",
      "T-statistic: 0.06114208969631383\n",
      "P-value: 0.9515665020676465\n",
      "Conclusion: Fail to reject the null hypothesis. There is no statistically significant gender-based salary gap.\n"
     ]
    }
   ],
   "source": [
    "'''18.An HR department wants to investigate if there's a gender-based salary gap within the company. Develop\n",
    "a program to analyze salary data, calculate the t-statistic, and determine if there's a statistically\n",
    "significant difference between the average salaries of male and female employees.'''\n",
    "\n",
    "# Ans\n",
    "def analyze_salary_gap(male_salaries, female_salaries, alpha=0.05):\n",
    "    # Calculate sample statistics\n",
    "    mean_male = np.mean(male_salaries)\n",
    "    mean_female = np.mean(female_salaries)\n",
    "\n",
    "    # Calculate t-statistic and p-value using t-test for independent samples\n",
    "    t_stat, p_value = ttest_ind(male_salaries, female_salaries)\n",
    "\n",
    "    # Interpret the results\n",
    "    if p_value < alpha:\n",
    "        result = \"Reject the null hypothesis. There is a statistically significant gender-based salary gap.\"\n",
    "    else:\n",
    "        result = \"Fail to reject the null hypothesis. There is no statistically significant gender-based salary gap.\"\n",
    "\n",
    "    return {\n",
    "        't_statistic': t_stat,\n",
    "        'p_value': p_value,\n",
    "        'result': result\n",
    "    }\n",
    "\n",
    "# Generate synthetic salary data for male and female employees\n",
    "np.random.seed(0)  # For reproducibility\n",
    "male_salaries = np.random.normal(loc=50000, scale=10000, size=20)\n",
    "female_salaries = np.random.normal(loc=55000, scale=9000, size=20)\n",
    "\n",
    "result = analyze_salary_gap(male_salaries, female_salaries)\n",
    "print(\"Salary Gap Analysis Results:\")\n",
    "print(\"T-statistic:\", result['t_statistic'])\n",
    "print(\"P-value:\", result['p_value'])\n",
    "print(\"Conclusion:\", result['result'])"
   ]
  },
  {
   "cell_type": "code",
   "execution_count": 29,
   "id": "5ea7867a-3b5c-45f6-b710-04bd6bd44f09",
   "metadata": {},
   "outputs": [
    {
     "name": "stdout",
     "output_type": "stream",
     "text": [
      "Quality Comparison Results:\n",
      "T-statistic: 11.325830417646698\n",
      "P-value: 3.6824250702873965e-15\n",
      "Conclusion: Reject the null hypothesis. There is a statistically significant difference in quality between the two versions.\n"
     ]
    }
   ],
   "source": [
    "'''19.A manufacturer produces two different versions of a product and wants to compare their quality scores.\n",
    "Create a Python function to analyze quality assessment data, calculate the t-statistic, and decide\n",
    "whether there's a significant difference in quality between the two versions.'''\n",
    "\n",
    "# Ans\n",
    "def analyze_quality(version1_scores, version2_scores, alpha=0.05):\n",
    "    # Calculate sample statistics\n",
    "    mean_version1 = np.mean(version1_scores)\n",
    "    mean_version2 = np.mean(version2_scores)\n",
    "\n",
    "    # Calculate t-statistic and p-value using t-test for independent samples\n",
    "    t_stat, p_value = ttest_ind(version1_scores, version2_scores)\n",
    "\n",
    "    # Interpret the results\n",
    "    if p_value < alpha:\n",
    "        result = \"Reject the null hypothesis. There is a statistically significant difference in quality between the two versions.\"\n",
    "    else:\n",
    "        result = \"Fail to reject the null hypothesis. There is no statistically significant difference in quality between the two versions.\"\n",
    "\n",
    "    return {\n",
    "        't_statistic': t_stat,\n",
    "        'p_value': p_value,\n",
    "        'result': result\n",
    "    }\n",
    "\n",
    "# Example usage:\n",
    "version1_scores = [85, 88, 82, 89, 87, 84, 90, 88, 85, 86, 91, 83, 87, 84, 89, 86, 84, 88, 85, 86, 89, 90, 87, 88, 85]\n",
    "version2_scores = [80, 78, 83, 81, 79, 82, 76, 80, 78, 81, 77, 82, 80, 79, 82, 79, 80, 81, 79, 82, 79, 78, 80, 81, 82]\n",
    "\n",
    "result = analyze_quality(version1_scores, version2_scores)\n",
    "print(\"Quality Comparison Results:\")\n",
    "print(\"T-statistic:\", result['t_statistic'])\n",
    "print(\"P-value:\", result['p_value'])\n",
    "print(\"Conclusion:\", result['result'])"
   ]
  },
  {
   "cell_type": "code",
   "execution_count": 30,
   "id": "d2126c54-45ab-4295-a7df-e7d5019399cc",
   "metadata": {},
   "outputs": [
    {
     "name": "stdout",
     "output_type": "stream",
     "text": [
      "Customer Satisfaction Analysis Results:\n",
      "T-statistic: 5.480077554195743\n",
      "P-value: 8.895290509945655e-07\n",
      "Conclusion: Reject the null hypothesis. There is a statistically significant difference in customer satisfaction between the branches.\n"
     ]
    }
   ],
   "source": [
    "'''20.A restaurant chain collects customer satisfaction scores for two different branches. Write a program to\n",
    "analyze the scores, calculate the t-statistic, and determine if there's a statistically significant difference in\n",
    "customer satisfaction between the branches.'''\n",
    "\n",
    "# Ans\n",
    "def analyze_customer_satisfaction(branch_a_scores, branch_b_scores, alpha=0.05):\n",
    "    # Calculate sample statistics\n",
    "    mean_branch_a = np.mean(branch_a_scores)\n",
    "    mean_branch_b = np.mean(branch_b_scores)\n",
    "\n",
    "    # Calculate t-statistic and p-value using t-test for independent samples\n",
    "    t_stat, p_value = ttest_ind(branch_a_scores, branch_b_scores)\n",
    "\n",
    "    # Interpret the results\n",
    "    if p_value < alpha:\n",
    "        result = \"Reject the null hypothesis. There is a statistically significant difference in customer satisfaction between the branches.\"\n",
    "    else:\n",
    "        result = \"Fail to reject the null hypothesis. There is no statistically significant difference in customer satisfaction between the branches.\"\n",
    "\n",
    "    return {\n",
    "        't_statistic': t_stat,\n",
    "        'p_value': p_value,\n",
    "        'result': result\n",
    "    }\n",
    "\n",
    "# Example usage:\n",
    "branch_a_scores = [4, 5, 3, 4, 5, 4, 5, 3, 4, 4, 5, 4, 4, 3, 4, 5, 5, 4, 3, 4, 5, 4, 3, 5, 4, 4, 5, 3, 4, 5, 4]\n",
    "branch_b_scores = [3, 4, 2, 3, 4, 3, 4, 2, 3, 3, 4, 3, 3, 2, 3, 4, 4, 3, 2, 3, 4, 3, 2, 4, 3, 3, 4, 2, 3, 4, 3]\n",
    "\n",
    "result = analyze_customer_satisfaction(branch_a_scores, branch_b_scores)\n",
    "print(\"Customer Satisfaction Analysis Results:\")\n",
    "print(\"T-statistic:\", result['t_statistic'])\n",
    "print(\"P-value:\", result['p_value'])\n",
    "print(\"Conclusion:\", result['result'])"
   ]
  },
  {
   "cell_type": "code",
   "execution_count": 31,
   "id": "a3d56b54-a9db-4a04-be00-3c68cbb04245",
   "metadata": {},
   "outputs": [
    {
     "name": "stdout",
     "output_type": "stream",
     "text": [
      "Chi-Square Test Results:\n",
      "Chi-Square Statistic: 0.8779923945254768\n",
      "P-value: 0.6446832311860852\n",
      "Degrees of Freedom: 2\n",
      "Expected Frequencies:\n",
      " [[96.824 85.176]\n",
      " [89.908 79.092]\n",
      " [79.268 69.732]]\n",
      "Conclusion: Fail to reject the null hypothesis. There is no significant association between age groups and voter preferences.\n"
     ]
    }
   ],
   "source": [
    "'''21.A political analyst wants to determine if there is a significant association between age groups and voter\n",
    "preferences (Candidate A or Candidate B). They collect data from a sample of 500 voters and classify\n",
    "them into different age groups and candidate preferences. Perform a Chi-Square test to determine if\n",
    "there is a significant association between age groups and voter preferences.'''\n",
    "\n",
    "# Ans\n",
    "from scipy.stats import chi2_contingency\n",
    "np.random.seed(0)\n",
    "\n",
    "# Generate age groups and voter preferences for 500 voters\n",
    "age_groups = np.random.choice(['18-30', '31-50', '51+'], size=500)\n",
    "voter_preferences = np.random.choice(['Candidate A', 'Candidate B'], size=500)\n",
    "\n",
    "# Create a contingency table\n",
    "contingency_table = np.array([[np.sum((age_groups == '18-30') & (voter_preferences == 'Candidate A')),\n",
    "                               np.sum((age_groups == '18-30') & (voter_preferences == 'Candidate B'))],\n",
    "                              [np.sum((age_groups == '31-50') & (voter_preferences == 'Candidate A')),\n",
    "                               np.sum((age_groups == '31-50') & (voter_preferences == 'Candidate B'))],\n",
    "                              [np.sum((age_groups == '51+') & (voter_preferences == 'Candidate A')),\n",
    "                               np.sum((age_groups == '51+') & (voter_preferences == 'Candidate B'))]])\n",
    "\n",
    "# Perform Chi-Square test\n",
    "chi2, p_value, dof, expected = chi2_contingency(contingency_table)\n",
    "\n",
    "# Interpret the results\n",
    "if p_value < 0.05:\n",
    "    result = \"Reject the null hypothesis. There is a significant association between age groups and voter preferences.\"\n",
    "else:\n",
    "    result = \"Fail to reject the null hypothesis. There is no significant association between age groups and voter preferences.\"\n",
    "\n",
    "print(\"Chi-Square Test Results:\")\n",
    "print(\"Chi-Square Statistic:\", chi2)\n",
    "print(\"P-value:\", p_value)\n",
    "print(\"Degrees of Freedom:\", dof)\n",
    "print(\"Expected Frequencies:\\n\", expected)\n",
    "print(\"Conclusion:\", result)"
   ]
  },
  {
   "cell_type": "code",
   "execution_count": 32,
   "id": "410a46ef-1ba0-4ade-aa53-e78460cda418",
   "metadata": {},
   "outputs": [
    {
     "name": "stdout",
     "output_type": "stream",
     "text": [
      "Chi-Square Test Results:\n",
      "Chi-Square Statistic: 27.777056277056275\n",
      "P-value: 0.00010349448486004387\n",
      "Degrees of Freedom: 6\n",
      "Expected Frequencies:\n",
      " [[34.14634146 34.14634146 37.56097561 34.14634146]\n",
      " [36.58536585 36.58536585 40.24390244 36.58536585]\n",
      " [29.26829268 29.26829268 32.19512195 29.26829268]]\n",
      "Conclusion: Reject the null hypothesis. There is a significant relationship between product satisfaction levels and customer regions.\n"
     ]
    }
   ],
   "source": [
    "'''22.A company conducted a customer satisfaction survey to determine if there is a significant relationship\n",
    "between product satisfaction levels (Satisfied, Neutral, Dissatisfied) and the region where customers are\n",
    "located (East, West, North, South). The survey data is summarized in a contingency table. Conduct a ChiSquare test\n",
    "to determine if there is a significant relationship between product satisfaction levels and customer regions'''\n",
    "\n",
    "# Ans\n",
    "# Sample data: Product satisfaction levels (rows) vs. Customer regions (columns)\n",
    "data = np.array([[50, 30, 40, 20], [30, 40, 30, 50], [20, 30, 40, 30]])\n",
    "\n",
    "# Perform Chi-Square test\n",
    "chi2, p_value, dof, expected = chi2_contingency(data)\n",
    "\n",
    "# Interpret the results\n",
    "if p_value < 0.05:\n",
    "    result = \"Reject the null hypothesis. There is a significant relationship between product satisfaction levels and customer regions.\"\n",
    "else:\n",
    "    result = \"Fail to reject the null hypothesis. There is no significant relationship between product satisfaction levels and customer regions.\"\n",
    "\n",
    "print(\"Chi-Square Test Results:\")\n",
    "print(\"Chi-Square Statistic:\", chi2)\n",
    "print(\"P-value:\", p_value)\n",
    "print(\"Degrees of Freedom:\", dof)\n",
    "print(\"Expected Frequencies:\\n\", expected)\n",
    "print(\"Conclusion:\", result)"
   ]
  },
  {
   "cell_type": "code",
   "execution_count": 33,
   "id": "4b7b29b7-9204-4e76-b633-162f986ccfb0",
   "metadata": {},
   "outputs": [
    {
     "name": "stdout",
     "output_type": "stream",
     "text": [
      "Chi-Square Test Results:\n",
      "Chi-Square Statistic: 22.161728395061726\n",
      "P-value: 0.00018609719479882557\n",
      "Degrees of Freedom: 4\n",
      "Expected Frequencies:\n",
      " [[34.48275862 34.48275862 31.03448276]\n",
      " [34.48275862 34.48275862 31.03448276]\n",
      " [31.03448276 31.03448276 27.93103448]]\n",
      "Conclusion: Reject the null hypothesis. There is a significant difference between job performance levels before and after training.\n"
     ]
    }
   ],
   "source": [
    "'''23.A company implemented an employee training program to improve job performance (Effective, Neutral,\n",
    "Ineffective). After the training, they collected data from a sample of employees and classified them based\n",
    "on their job performance before and after the training. Perform a Chi-Square test to determine if there is a\n",
    "significant difference between job performance levels before and after the training'''\n",
    "\n",
    "# Ans\n",
    "# Sample data: Job performance levels before (rows) and after (columns) training\n",
    "data = np.array([[50, 30, 20], [30, 40, 30], [20, 30, 40]])\n",
    "\n",
    "# Perform Chi-Square test\n",
    "chi2, p_value, dof, expected = chi2_contingency(data)\n",
    "\n",
    "# Interpret the results\n",
    "if p_value < 0.05:\n",
    "    result = \"Reject the null hypothesis. There is a significant difference between job performance levels before and after training.\"\n",
    "else:\n",
    "    result = \"Fail to reject the null hypothesis. There is no significant difference between job performance levels before and after training.\"\n",
    "\n",
    "print(\"Chi-Square Test Results:\")\n",
    "print(\"Chi-Square Statistic:\", chi2)\n",
    "print(\"P-value:\", p_value)\n",
    "print(\"Degrees of Freedom:\", dof)\n",
    "print(\"Expected Frequencies:\\n\", expected)\n",
    "print(\"Conclusion:\", result)"
   ]
  },
  {
   "cell_type": "code",
   "execution_count": 34,
   "id": "73b02459-981c-4a79-b48e-b860cdb2ca54",
   "metadata": {},
   "outputs": [
    {
     "name": "stdout",
     "output_type": "stream",
     "text": [
      "ANOVA Test Results:\n",
      "F-statistic: 27.03556231003039\n",
      "P-value: 3.5786328857349003e-07\n",
      "Conclusion: Reject the null hypothesis. There is a significant difference in customer satisfaction scores among the three product versions.\n"
     ]
    }
   ],
   "source": [
    "'''24. A company produces three different versions of a product: Standard, Premium, and Deluxe. The\n",
    "company wants to determine if there is a significant difference in customer satisfaction scores among the\n",
    "three product versions. They conducted a survey and collected customer satisfaction scores for each\n",
    "version from a random sample of customers. Perform an ANOVA test to determine if there is a significant\n",
    "difference in customer satisfaction scores'''\n",
    "\n",
    "# Ans\n",
    "from scipy.stats import f_oneway\n",
    "# Sample data: Customer satisfaction scores for each product version\n",
    "standard_scores = [80, 85, 90, 78, 88, 82, 92, 78, 85, 87]\n",
    "premium_scores = [90, 92, 88, 92, 95, 91, 96, 93, 89, 93]\n",
    "deluxe_scores = [95, 98, 92, 97, 96, 94, 98, 97, 92, 99]\n",
    "\n",
    "# Perform ANOVA test\n",
    "f_stat, p_value = f_oneway(standard_scores, premium_scores, deluxe_scores)\n",
    "\n",
    "# Interpret the results\n",
    "if p_value < 0.05:\n",
    "    result = \"Reject the null hypothesis. There is a significant difference in customer satisfaction scores among the three product versions.\"\n",
    "else:\n",
    "    result = \"Fail to reject the null hypothesis. There is no significant difference in customer satisfaction scores among the three product versions.\"\n",
    "\n",
    "print(\"ANOVA Test Results:\")\n",
    "print(\"F-statistic:\", f_stat)\n",
    "print(\"P-value:\", p_value)\n",
    "print(\"Conclusion:\", result)"
   ]
  }
 ],
 "metadata": {
  "kernelspec": {
   "display_name": "Python 3 (ipykernel)",
   "language": "python",
   "name": "python3"
  },
  "language_info": {
   "codemirror_mode": {
    "name": "ipython",
    "version": 3
   },
   "file_extension": ".py",
   "mimetype": "text/x-python",
   "name": "python",
   "nbconvert_exporter": "python",
   "pygments_lexer": "ipython3",
   "version": "3.10.8"
  }
 },
 "nbformat": 4,
 "nbformat_minor": 5
}
